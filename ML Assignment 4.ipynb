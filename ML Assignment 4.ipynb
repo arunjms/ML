{
 "cells": [
  {
   "cell_type": "code",
   "execution_count": 1,
   "id": "fbfc06b0-2248-4ba3-a3d6-4d03a7ce1b11",
   "metadata": {},
   "outputs": [],
   "source": [
    "#Question 1: Loading and Preprocessing"
   ]
  },
  {
   "cell_type": "code",
   "execution_count": 2,
   "id": "8936499a-2c47-4662-a865-7b89de50b73e",
   "metadata": {},
   "outputs": [
    {
     "name": "stdout",
     "output_type": "stream",
     "text": [
      "mean radius                0\n",
      "mean texture               0\n",
      "mean perimeter             0\n",
      "mean area                  0\n",
      "mean smoothness            0\n",
      "mean compactness           0\n",
      "mean concavity             0\n",
      "mean concave points        0\n",
      "mean symmetry              0\n",
      "mean fractal dimension     0\n",
      "radius error               0\n",
      "texture error              0\n",
      "perimeter error            0\n",
      "area error                 0\n",
      "smoothness error           0\n",
      "compactness error          0\n",
      "concavity error            0\n",
      "concave points error       0\n",
      "symmetry error             0\n",
      "fractal dimension error    0\n",
      "worst radius               0\n",
      "worst texture              0\n",
      "worst perimeter            0\n",
      "worst area                 0\n",
      "worst smoothness           0\n",
      "worst compactness          0\n",
      "worst concavity            0\n",
      "worst concave points       0\n",
      "worst symmetry             0\n",
      "worst fractal dimension    0\n",
      "target                     0\n",
      "dtype: int64\n"
     ]
    }
   ],
   "source": [
    "from sklearn.datasets import load_breast_cancer\n",
    "import pandas as pd\n",
    "from sklearn.preprocessing import StandardScaler\n",
    "\n",
    "# Load the dataset\n",
    "cancer = load_breast_cancer()\n",
    "df = pd.DataFrame(cancer.data, columns=cancer.feature_names)\n",
    "df['target'] = cancer.target\n",
    "\n",
    "# Check for missing values\n",
    "print(df.isnull().sum())\n",
    "\n",
    "# Scale features\n",
    "scaler = StandardScaler()\n",
    "X_scaled = scaler.fit_transform(df.drop('target', axis=1))\n",
    "y = df['target']\n"
   ]
  },
  {
   "cell_type": "code",
   "execution_count": 3,
   "id": "077e1732-34e8-41b1-8163-0888f4b538d0",
   "metadata": {},
   "outputs": [],
   "source": [
    "#Question 2: Classification Algorithm Implementation"
   ]
  },
  {
   "cell_type": "code",
   "execution_count": 4,
   "id": "0aee7d62-1e16-4882-8152-f440ee674289",
   "metadata": {},
   "outputs": [
    {
     "data": {
      "text/html": [
       "<div>\n",
       "<style scoped>\n",
       "    .dataframe tbody tr th:only-of-type {\n",
       "        vertical-align: middle;\n",
       "    }\n",
       "\n",
       "    .dataframe tbody tr th {\n",
       "        vertical-align: top;\n",
       "    }\n",
       "\n",
       "    .dataframe thead th {\n",
       "        text-align: right;\n",
       "    }\n",
       "</style>\n",
       "<table border=\"1\" class=\"dataframe\">\n",
       "  <thead>\n",
       "    <tr style=\"text-align: right;\">\n",
       "      <th></th>\n",
       "      <th>Model</th>\n",
       "      <th>Accuracy</th>\n",
       "      <th>Precision</th>\n",
       "      <th>Recall</th>\n",
       "      <th>F1 Score</th>\n",
       "    </tr>\n",
       "  </thead>\n",
       "  <tbody>\n",
       "    <tr>\n",
       "      <th>0</th>\n",
       "      <td>Logistic Regression</td>\n",
       "      <td>0.973684</td>\n",
       "      <td>0.972222</td>\n",
       "      <td>0.985915</td>\n",
       "      <td>0.979021</td>\n",
       "    </tr>\n",
       "    <tr>\n",
       "      <th>3</th>\n",
       "      <td>SVM</td>\n",
       "      <td>0.973684</td>\n",
       "      <td>0.972222</td>\n",
       "      <td>0.985915</td>\n",
       "      <td>0.979021</td>\n",
       "    </tr>\n",
       "    <tr>\n",
       "      <th>2</th>\n",
       "      <td>Random Forest</td>\n",
       "      <td>0.964912</td>\n",
       "      <td>0.958904</td>\n",
       "      <td>0.985915</td>\n",
       "      <td>0.972222</td>\n",
       "    </tr>\n",
       "    <tr>\n",
       "      <th>1</th>\n",
       "      <td>Decision Tree</td>\n",
       "      <td>0.947368</td>\n",
       "      <td>0.957746</td>\n",
       "      <td>0.957746</td>\n",
       "      <td>0.957746</td>\n",
       "    </tr>\n",
       "    <tr>\n",
       "      <th>4</th>\n",
       "      <td>k-NN</td>\n",
       "      <td>0.947368</td>\n",
       "      <td>0.957746</td>\n",
       "      <td>0.957746</td>\n",
       "      <td>0.957746</td>\n",
       "    </tr>\n",
       "  </tbody>\n",
       "</table>\n",
       "</div>"
      ],
      "text/plain": [
       "                 Model  Accuracy  Precision    Recall  F1 Score\n",
       "0  Logistic Regression  0.973684   0.972222  0.985915  0.979021\n",
       "3                  SVM  0.973684   0.972222  0.985915  0.979021\n",
       "2        Random Forest  0.964912   0.958904  0.985915  0.972222\n",
       "1        Decision Tree  0.947368   0.957746  0.957746  0.957746\n",
       "4                 k-NN  0.947368   0.957746  0.957746  0.957746"
      ]
     },
     "execution_count": 4,
     "metadata": {},
     "output_type": "execute_result"
    }
   ],
   "source": [
    "from sklearn.model_selection import train_test_split\n",
    "from sklearn.linear_model import LogisticRegression\n",
    "from sklearn.tree import DecisionTreeClassifier\n",
    "from sklearn.ensemble import RandomForestClassifier\n",
    "from sklearn.svm import SVC\n",
    "from sklearn.neighbors import KNeighborsClassifier\n",
    "from sklearn.metrics import accuracy_score, precision_score, recall_score, f1_score\n",
    "\n",
    "# Train-test split\n",
    "X_train, X_test, y_train, y_test = train_test_split(X_scaled, y, test_size=0.2, random_state=42)\n",
    "\n",
    "# Define models\n",
    "models = {\n",
    "    'Logistic Regression': LogisticRegression(max_iter=1000),\n",
    "    'Decision Tree': DecisionTreeClassifier(random_state=42),\n",
    "    'Random Forest': RandomForestClassifier(random_state=42),\n",
    "    'SVM': SVC(),\n",
    "    'k-NN': KNeighborsClassifier()\n",
    "}\n",
    "\n",
    "results = []\n",
    "\n",
    "for name, model in models.items():\n",
    "    model.fit(X_train, y_train)\n",
    "    y_pred = model.predict(X_test)\n",
    "\n",
    "    results.append({\n",
    "        'Model': name,\n",
    "        'Accuracy': accuracy_score(y_test, y_pred),\n",
    "        'Precision': precision_score(y_test, y_pred),\n",
    "        'Recall': recall_score(y_test, y_pred),\n",
    "        'F1 Score': f1_score(y_test, y_pred)\n",
    "    })\n",
    "\n",
    "results_df = pd.DataFrame(results)\n",
    "results_df.sort_values(by='F1 Score', ascending=False)\n"
   ]
  },
  {
   "cell_type": "code",
   "execution_count": 5,
   "id": "44129b17-5779-429c-aae3-1fbd61bf560a",
   "metadata": {},
   "outputs": [],
   "source": [
    "# Question 3: Model Comparison "
   ]
  },
  {
   "cell_type": "markdown",
   "id": "7d586ffe-d715-415c-979f-3c00df23dd7a",
   "metadata": {},
   "source": [
    "\tModel\tAccuracy\tPrecision\tRecall\tF1 Score\n",
    "0\tLogistic Regression\t0.973684\t0.972222\t0.985915\t0.979021\n",
    "3\tSVM\t0.973684\t0.972222\t0.985915\t0.979021\n",
    "2\tRandom Forest\t0.964912\t0.958904\t0.985915\t0.972222\n",
    "1\tDecision Tree\t0.947368\t0.957746\t0.957746\t0.957746\n",
    "4\tk-NN\t0.947368\t0.957746\t0.957746\t0.957746\n",
    "## Best Performing Model: Random Forest \n",
    "It gave the highest F1 Score and performed well across all metrics. It's robust and handles non-linear data well.\n",
    "\n",
    "## Worst Performing Model: Decision Tree \n",
    "It had the lowest F1 Score, likely due to overfitting and lack of regularization."
   ]
  },
  {
   "cell_type": "markdown",
   "id": "521c7fbe-ccbe-43ca-b910-2bbce7434327",
   "metadata": {},
   "source": [
    "## Question 4: Conclusion\n",
    "\n",
    "In this classification task, I used five different models to predict breast cancer diagnosis. After preprocessing and training the models, the **Random Forest Classifier** gave the best results, showing high accuracy and F1 Score.\n",
    "\n",
    "The **Decision Tree Classifier** had the weakest performance, likely because it overfits the training data. This assignment helped me understand how different classification models work and how important it is to scale data and compare results with proper metrics.\n"
   ]
  },
  {
   "cell_type": "code",
   "execution_count": null,
   "id": "d84277f7-edf2-4512-b404-916d0697dbde",
   "metadata": {},
   "outputs": [],
   "source": []
  }
 ],
 "metadata": {
  "kernelspec": {
   "display_name": "Python 3 (ipykernel)",
   "language": "python",
   "name": "python3"
  },
  "language_info": {
   "codemirror_mode": {
    "name": "ipython",
    "version": 3
   },
   "file_extension": ".py",
   "mimetype": "text/x-python",
   "name": "python",
   "nbconvert_exporter": "python",
   "pygments_lexer": "ipython3",
   "version": "3.12.7"
  }
 },
 "nbformat": 4,
 "nbformat_minor": 5
}
